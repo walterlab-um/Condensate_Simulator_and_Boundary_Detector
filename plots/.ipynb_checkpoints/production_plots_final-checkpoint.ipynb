{
 "cells": [
  {
   "cell_type": "code",
   "execution_count": 27,
   "id": "3b30c622-9a7a-48f1-9c06-5bb6690c9530",
   "metadata": {
    "tags": []
   },
   "outputs": [],
   "source": [
    "import os\n",
    "from os.path import join, dirname, isdir\n",
    "import matplotlib.pyplot as plt\n",
    "from matplotlib.colors import LogNorm, TwoSlopeNorm\n",
    "import pandas as pd\n",
    "import numpy as np\n",
    "from copy import deepcopy\n",
    "import seaborn as sns\n",
    "\n",
    "sns.set(color_codes=True, style=\"white\")\n",
    "from statannot import add_stat_annotation"
   ]
  },
  {
   "cell_type": "markdown",
   "id": "1cd30de8-e138-47d5-a43d-8555d31ffb28",
   "metadata": {},
   "source": [
    "### Parameters"
   ]
  },
  {
   "cell_type": "code",
   "execution_count": 21,
   "id": "813c5346-4b20-42c2-b3dc-9c4a93817e10",
   "metadata": {
    "tags": []
   },
   "outputs": [],
   "source": [
    "bins = 6\n",
    "\n",
    "folder = (\n",
    "    \"/Volumes/AnalysisGG/PROCESSED_DATA/JPCB-CondensateBoundaryDetection/Simulated-4096\"\n",
    ")\n",
    "os.chdir(folder)\n",
    "\n",
    "folder_save = \"/Users/GGM/Documents/Graduate_Work/Nils_Walter_Lab/Writing/MyPublications/ResearchArticle-JPCB/Revision1\"\n",
    "\n",
    "lst_metric = [\n",
    "    \"deviation_center\",\n",
    "    \"rmsd_edge\",\n",
    "    \"fold_deviation_area\",\n",
    "    \"fold_deviation_PC\",\n",
    "    \"fold_deviation_PC_max\",\n",
    "]\n",
    "dict_subtitle = {\n",
    "    \"deviation_center\": \"Center Deviation, nm\",\n",
    "    \"rmsd_edge\": \"Edge Deviation RMSD, nm\",\n",
    "    \"fold_deviation_area\": \"Area Deviation Fold Change\",\n",
    "    \"fold_deviation_PC\": \"PC Deviation Fold Change\",\n",
    "    \"fold_deviation_PC_max\": \"PC-max Deviation Fold Change\",\n",
    "}\n",
    "dict_cmap = {\n",
    "    \"deviation_center\": \"magma\",\n",
    "    \"rmsd_edge\": \"magma\",\n",
    "    \"fold_deviation_area\": \"seismic\",\n",
    "    \"fold_deviation_PC\": \"seismic\",\n",
    "    \"fold_deviation_PC_max\": \"seismic\",\n",
    "}\n",
    "cmap_default = \"magma\"\n",
    "dict_vrange = {\n",
    "    \"deviation_center\": (70, 150),\n",
    "    \"rmsd_edge\": (50, 200),\n",
    "    \"fold_deviation_area\": (0, 2),\n",
    "    \"fold_deviation_PC\": (0, 2),\n",
    "    \"fold_deviation_PC_max\": (0, 2),\n",
    "}\n",
    "dict_vrange_var = {\n",
    "    \"deviation_center\": (10**2, 10**3),\n",
    "    \"rmsd_edge\": (1, 10**3),\n",
    "    \"fold_deviation_area\": (10 ** (-4), 10 ** (-1)),\n",
    "    \"fold_deviation_PC\": (10 ** (-5), 10 ** (-3)),\n",
    "    \"fold_deviation_PC_max\": (10 ** (-5), 10 ** (-3)),\n",
    "}"
   ]
  },
  {
   "cell_type": "markdown",
   "id": "6384e2a8-50d3-4645-bc93-600cb5bbc81b",
   "metadata": {
    "jp-MarkdownHeadingCollapsed": true,
    "tags": []
   },
   "source": [
    "### Functions"
   ]
  },
  {
   "cell_type": "code",
   "execution_count": 24,
   "id": "4ef30e58-5309-45ff-8b5e-6105e0979a18",
   "metadata": {},
   "outputs": [],
   "source": [
    "def assemble_heatmap(r, pc, df_result, heatmap, metric=None, operation=\"rate\"):\n",
    "    # assemble heatmap for different quantities\n",
    "    for row in np.arange(len(r) - 1):\n",
    "        for column in np.arange(len(pc) - 1):\n",
    "            range_r = (r[row], r[row + 1])\n",
    "            range_pc = (pc[column], pc[column + 1])\n",
    "\n",
    "            within_r_range = df_result[\n",
    "                (df_result[\"truth_r\"] > range_r[0])\n",
    "                & (df_result[\"truth_r\"] <= range_r[1])\n",
    "            ]\n",
    "            within_r_and_pc_range = within_r_range[\n",
    "                (within_r_range[\"truth_pc\"] > range_pc[0])\n",
    "                & (within_r_range[\"truth_pc\"] <= range_pc[1])\n",
    "            ]\n",
    "\n",
    "            if operation == \"rate\":\n",
    "                rate = (\n",
    "                    within_r_and_pc_range[\n",
    "                        within_r_and_pc_range[\"success\"] == False\n",
    "                    ].shape[0]\n",
    "                    / within_r_and_pc_range.shape[0]\n",
    "                )\n",
    "                heatmap[row, column] = rate\n",
    "                continue\n",
    "\n",
    "            if (\n",
    "                np.isnan(within_r_and_pc_range[metric]).sum()\n",
    "                == within_r_and_pc_range.shape[0]\n",
    "            ):\n",
    "                heatmap[row, column] = np.nan\n",
    "                continue\n",
    "\n",
    "            if operation == \"mean\":\n",
    "                heatmap[row, column] = np.nanmean(within_r_and_pc_range[metric])\n",
    "\n",
    "            if operation == \"var\":\n",
    "                heatmap[row, column] = np.nanvar(within_r_and_pc_range[metric])\n",
    "\n",
    "    return heatmap"
   ]
  },
  {
   "cell_type": "markdown",
   "id": "c228dc0b-68c1-462f-81bc-af860298d951",
   "metadata": {},
   "source": [
    "### Main"
   ]
  },
  {
   "cell_type": "markdown",
   "id": "ec818647-374d-41df-9c35-a35c1021f63c",
   "metadata": {},
   "source": [
    "#### Load Method 1-3"
   ]
  },
  {
   "cell_type": "code",
   "execution_count": 17,
   "id": "74507f04-3bc0-4149-9bb8-7425d98d5c68",
   "metadata": {
    "tags": []
   },
   "outputs": [
    {
     "data": {
      "text/plain": [
       "['Method-1-Denoise_Threshold', 'Method-3-GaussFit', 'Method-2-Canny']"
      ]
     },
     "execution_count": 17,
     "metadata": {},
     "output_type": "execute_result"
    }
   ],
   "source": [
    "lst_subfolders_1_3 = [\n",
    "    f\n",
    "    for f in os.listdir(folder)\n",
    "    if isdir(f) & (not f.startswith(\"Result\")) & (not f.startswith(\"ilastik\"))\n",
    "]\n",
    "lst_subfolders_1_3"
   ]
  },
  {
   "cell_type": "code",
   "execution_count": 18,
   "id": "2b6b9a96-dd39-46c2-9cb8-ca3eb2b844c0",
   "metadata": {
    "tags": []
   },
   "outputs": [],
   "source": [
    "subfolder = \"Method-1-Denoise_Threshold\"\n",
    "fname = [f for f in os.listdir(subfolder) if f.endswith(\"results.csv\")][0]\n",
    "df_result_M1 = pd.read_csv(join(subfolder, fname), dtype=float)\n",
    "subfolder = \"Method-2-Canny\"\n",
    "fname = [f for f in os.listdir(subfolder) if f.endswith(\"results.csv\")][0]\n",
    "df_result_M2 = pd.read_csv(join(subfolder, fname), dtype=float)\n",
    "subfolder = \"Method-3-GaussFit\"\n",
    "fname = [f for f in os.listdir(subfolder) if f.endswith(\"results.csv\")][0]\n",
    "df_result_M3 = pd.read_csv(join(subfolder, fname), dtype=float)"
   ]
  },
  {
   "cell_type": "markdown",
   "id": "9c36e87b-80c3-4f8e-8ab1-811a7b076d12",
   "metadata": {},
   "source": [
    "#### Load Method 4"
   ]
  },
  {
   "cell_type": "code",
   "execution_count": 20,
   "id": "72b5433d-f1cb-47c3-8368-aee02a3c92bd",
   "metadata": {
    "tags": []
   },
   "outputs": [],
   "source": [
    "# Pool data through all subfolders\n",
    "lst_subfolders = [\n",
    "    f\n",
    "    for f in os.listdir(folder)\n",
    "    if isdir(f) & (not f.startswith(\"Results\")) & f.startswith(\"ilastik\")\n",
    "]\n",
    "fname = [f for f in os.listdir(lst_subfolders[0]) if f.endswith(\"results.csv\")][0]\n",
    "df_result_M4 = pd.read_csv(join(lst_subfolders[0], fname), dtype=float)\n",
    "for idx in np.arange(1, len(lst_subfolders)):\n",
    "    fname = [f for f in os.listdir(lst_subfolders[idx]) if f.endswith(\"results.csv\")][0]\n",
    "    df_current = pd.read_csv(join(lst_subfolders[idx], fname), dtype=float)\n",
    "    df_result_M4 = pd.concat([df_result_M4, df_current])"
   ]
  },
  {
   "cell_type": "markdown",
   "id": "d72eaf49-b333-4361-a0b1-d498ff6f145e",
   "metadata": {},
   "source": [
    "#### Single Plot"
   ]
  },
  {
   "cell_type": "code",
   "execution_count": 35,
   "id": "d2ac05a3-89bc-427f-b1b6-045763d68d10",
   "metadata": {
    "tags": []
   },
   "outputs": [],
   "source": [
    "# initialize heatmaps\n",
    "r = np.linspace(100, 600, bins)\n",
    "pc = np.linspace(2, 10, bins)\n",
    "heatmap_base = np.zeros((bins - 1, bins - 1))\n",
    "\n",
    "# ticks labels for all heatmaps\n",
    "xticks = [round(x, 2) for x in (pc[:-1] + pc[1:]) / 2]\n",
    "yticks = [round(x) for x in (r[:-1] + r[1:]) / 2]"
   ]
  },
  {
   "cell_type": "code",
   "execution_count": 102,
   "id": "a1c2805e-58aa-4e45-9dd9-19d9133a437c",
   "metadata": {
    "tags": []
   },
   "outputs": [],
   "source": [
    "metric = \"rmsd_edge\"\n",
    "operation = \"mean\"  # \"rate\" for fail rate, \"mean\" or \"var\" for all other metices\n",
    "heatmap_toplot = assemble_heatmap(\n",
    "    r,\n",
    "    pc,\n",
    "    df_result_M1,\n",
    "    heatmap_base,\n",
    "    metric,\n",
    "    operation,\n",
    ")\n",
    "path_save = join(folder_save, \"Fig5B-M1.png\")"
   ]
  },
  {
   "cell_type": "code",
   "execution_count": 103,
   "id": "ecf476fb-2fb7-4f45-9187-ba816bbad18f",
   "metadata": {
    "tags": []
   },
   "outputs": [],
   "source": [
    "# Pick the right normalization\n",
    "if metric in [\"deviation_center\", \"rmsd_edge\"]:\n",
    "    norm = LogNorm(vmin=dict_vrange[metric][0], vmax=dict_vrange[metric][1])\n",
    "    var_norm = LogNorm(vmin=dict_vrange_var[metric][0], vmax=dict_vrange_var[metric][1])\n",
    "elif metric in [\n",
    "    \"fold_deviation_area\",\n",
    "    \"fold_deviation_PC\",\n",
    "    \"fold_deviation_PC_max\",\n",
    "]:\n",
    "    norm = TwoSlopeNorm(1, vmin=dict_vrange[metric][0], vmax=dict_vrange[metric][1])\n",
    "    var_norm = LogNorm(vmin=dict_vrange_var[metric][0], vmax=dict_vrange_var[metric][1])"
   ]
  },
  {
   "cell_type": "code",
   "execution_count": null,
   "id": "a668bd04-7414-4419-a9f9-ce78fd708f68",
   "metadata": {},
   "outputs": [],
   "source": [
    "plt.figure(figsize=(5, 5), dpi=300)\n",
    "# if norm=None, for fail rate\n",
    "# ax = sns.heatmap(\n",
    "#     data=heatmap_toplot,\n",
    "#     xticklabels=xticks,\n",
    "#     yticklabels=yticks,\n",
    "#     annot=True,\n",
    "#     cmap=\"magma\",\n",
    "#     vmax=1,\n",
    "#     vmin=0,\n",
    "#     cbar=False,\n",
    "#     annot_kws={\"fontsize\": 15},\n",
    "# )\n",
    "ax = sns.heatmap(\n",
    "    data=heatmap_toplot,\n",
    "    xticklabels=xticks,\n",
    "    yticklabels=yticks,\n",
    "    annot=True,\n",
    "    cmap=dict_cmap[metric],\n",
    "    norm=norm,\n",
    "    cbar=False,\n",
    "    annot_kws={\"fontsize\": 15},\n",
    "    fmt=\".0f\",\n",
    ")\n",
    "ax.invert_yaxis()\n",
    "ax.tick_params(axis=\"both\", which=\"major\", labelsize=20)\n",
    "plt.tight_layout()\n",
    "plt.savefig(path_save, format=\"png\", bbox_inches=\"tight\")\n",
    "# plt.show()"
   ]
  },
  {
   "cell_type": "markdown",
   "id": "b5b4d421-9f88-4419-b975-5b1d2ba8872b",
   "metadata": {},
   "source": [
    "#### Multiple Plots for Annotator Bias"
   ]
  },
  {
   "cell_type": "code",
   "execution_count": 105,
   "id": "0a1ea00f-fc8b-402e-bafe-71c02fe9c9f5",
   "metadata": {
    "tags": []
   },
   "outputs": [
    {
     "data": {
      "text/plain": [
       "['ilastik-Researcher-1',\n",
       " 'ilastik-Researcher-6',\n",
       " 'ilastik-Researcher-7',\n",
       " 'ilastik-Researcher-5',\n",
       " 'ilastik-Researcher-2',\n",
       " 'ilastik-Researcher-3',\n",
       " 'ilastik-Researcher-4']"
      ]
     },
     "execution_count": 105,
     "metadata": {},
     "output_type": "execute_result"
    }
   ],
   "source": [
    "[\n",
    "    f\n",
    "    for f in os.listdir(folder)\n",
    "    if isdir(f) & (not f.startswith(\"Results\")) & f.startswith(\"ilastik\")\n",
    "]"
   ]
  },
  {
   "cell_type": "code",
   "execution_count": 106,
   "id": "6465025e-c569-4000-984c-ac99d8ffca3c",
   "metadata": {
    "tags": []
   },
   "outputs": [],
   "source": [
    "lst_subfolders = [\n",
    "    f\n",
    "    for f in os.listdir(folder)\n",
    "    if isdir(f) & (not f.startswith(\"Results\")) & f.startswith(\"ilastik\")\n",
    "]\n",
    "\n",
    "\n",
    "metric = \"rmsd_edge\"\n",
    "operation = \"mean\"  # \"rate\" for fail rate, \"mean\" or \"var\" for all other metices\n",
    "norm = LogNorm(vmin=dict_vrange[metric][0], vmax=dict_vrange[metric][1])\n",
    "var_norm = LogNorm(vmin=dict_vrange_var[metric][0], vmax=dict_vrange_var[metric][1])\n",
    "\n",
    "for idx in np.arange(0, len(lst_subfolders)):\n",
    "    fname = [f for f in os.listdir(lst_subfolders[idx]) if f.endswith(\"results.csv\")][0]\n",
    "    df_current = pd.read_csv(join(lst_subfolders[idx], fname), dtype=float)\n",
    "    heatmap_toplot = assemble_heatmap(\n",
    "        r,\n",
    "        pc,\n",
    "        df_current,\n",
    "        heatmap_base,\n",
    "        metric,\n",
    "        operation,\n",
    "    )\n",
    "    path_save = join(folder_save, \"Fig9-\" + lst_subfolders[idx].split(\"-\")[-1] + \".png\")\n",
    "    plt.figure(figsize=(5, 5), dpi=300)\n",
    "    ax = sns.heatmap(\n",
    "        data=heatmap_toplot,\n",
    "        xticklabels=xticks,\n",
    "        yticklabels=yticks,\n",
    "        annot=True,\n",
    "        cmap=dict_cmap[metric],\n",
    "        norm=norm,\n",
    "        cbar=False,\n",
    "        annot_kws={\"fontsize\": 15},\n",
    "        fmt=\".0f\",\n",
    "    )\n",
    "    ax.invert_yaxis()\n",
    "    ax.tick_params(axis=\"both\", which=\"major\", labelsize=20)\n",
    "    plt.tight_layout()\n",
    "    plt.savefig(path_save, format=\"png\", bbox_inches=\"tight\")\n",
    "    plt.close()"
   ]
  },
  {
   "cell_type": "code",
   "execution_count": null,
   "id": "365dfe30-4f9f-4872-b837-70b3e7218a38",
   "metadata": {},
   "outputs": [],
   "source": []
  }
 ],
 "metadata": {
  "kernelspec": {
   "display_name": "Python 3 (ipykernel)",
   "language": "python",
   "name": "python3"
  },
  "language_info": {
   "codemirror_mode": {
    "name": "ipython",
    "version": 3
   },
   "file_extension": ".py",
   "mimetype": "text/x-python",
   "name": "python",
   "nbconvert_exporter": "python",
   "pygments_lexer": "ipython3",
   "version": "3.9.16"
  }
 },
 "nbformat": 4,
 "nbformat_minor": 5
}
